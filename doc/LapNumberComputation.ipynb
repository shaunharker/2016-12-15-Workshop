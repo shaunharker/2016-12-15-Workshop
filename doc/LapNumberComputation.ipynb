{
 "cells": [
  {
   "cell_type": "code",
   "execution_count": 1,
   "metadata": {
    "collapsed": false
   },
   "outputs": [
    {
     "data": {
      "image/png": "[encoded data removed]",
      "text/plain": [
       "<matplotlib.figure.Figure at 0x10cbacad0>"
      ]
     },
     "metadata": {},
     "output_type": "display_data"
    },
    {
     "data": {
      "text/plain": [
       "Braid Diagram"
      ]
     },
     "execution_count": 1,
     "metadata": {},
     "output_type": "execute_result"
    }
   ],
   "source": [
    "from Braids import *\n",
    "diagram = BraidDiagram([ [1,3,1], [2,1,2], [3,4,3],[4,2,4]])\n",
    "diagram"
   ]
  },
  {
   "cell_type": "code",
   "execution_count": 2,
   "metadata": {
    "collapsed": true
   },
   "outputs": [],
   "source": [
    "braid_complex, braid_graph = BraidComplex(diagram)"
   ]
  },
  {
   "cell_type": "code",
   "execution_count": 3,
   "metadata": {
    "collapsed": false
   },
   "outputs": [],
   "source": [
    "domains = [ cell for cell in braid_complex if cell.dimension() == 2 ]"
   ]
  },
  {
   "cell_type": "code",
   "execution_count": 4,
   "metadata": {
    "collapsed": false
   },
   "outputs": [
    {
     "name": "stdout",
     "output_type": "stream",
     "text": [
      "(-inf,1)x(-inf,1)\t\t0\n",
      "(-inf,1)x(1,2)\t\t1\n",
      "(-inf,1)x(2,3)\t\t2\n",
      "(-inf,1)x(3,4)\t\t3\n",
      "(-inf,1)x(4,inf)\t\t4\n",
      "(1,2)x(-inf,1)\t\t1\n",
      "(1,2)x(1,2)\t\t2\n",
      "(1,2)x(2,3)\t\t3\n",
      "(1,2)x(3,4)\t\t2\n",
      "(1,2)x(4,inf)\t\t3\n",
      "(2,3)x(-inf,1)\t\t2\n",
      "(2,3)x(1,2)\t\t1\n",
      "(2,3)x(2,3)\t\t2\n",
      "(2,3)x(3,4)\t\t1\n",
      "(2,3)x(4,inf)\t\t2\n",
      "(3,4)x(-inf,1)\t\t3\n",
      "(3,4)x(1,2)\t\t2\n",
      "(3,4)x(2,3)\t\t3\n",
      "(3,4)x(3,4)\t\t2\n",
      "(3,4)x(4,inf)\t\t1\n",
      "(4,inf)x(-inf,1)\t\t4\n",
      "(4,inf)x(1,2)\t\t3\n",
      "(4,inf)x(2,3)\t\t2\n",
      "(4,inf)x(3,4)\t\t1\n",
      "(4,inf)x(4,inf)\t\t0\n"
     ]
    }
   ],
   "source": [
    "lap_numbers = []\n",
    "for cell in domains:\n",
    "    lap_numbers.append(str(cell) + \"\\t\\t\" + str(diagram.lap(cell)))\n",
    "print('\\n'.join(sorted(lap_numbers)))"
   ]
  },
  {
   "cell_type": "code",
   "execution_count": null,
   "metadata": {
    "collapsed": true
   },
   "outputs": [],
   "source": []
  }
 ],
 "metadata": {
  "anaconda-cloud": {},
  "kernelspec": {
   "display_name": "Python [conda root]",
   "language": "python",
   "name": "conda-root-py"
  },
  "language_info": {
   "codemirror_mode": {
    "name": "ipython",
    "version": 2
   },
   "file_extension": ".py",
   "mimetype": "text/x-python",
   "name": "python",
   "nbconvert_exporter": "python",
   "pygments_lexer": "ipython2",
   "version": "2.7.12"
  }
 },
 "nbformat": 4,
 "nbformat_minor": 1
}
